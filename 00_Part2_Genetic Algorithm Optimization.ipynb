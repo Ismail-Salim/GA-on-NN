{
 "cells": [
  {
   "cell_type": "markdown",
   "id": "23d10795-70c8-4072-9dc2-e7ba7932dffc",
   "metadata": {},
   "source": [
    "# This code is to apply Genetic Algorithm optimization for the input of the CFD dataset for both cases, Fluidized and Fixed Beds\n",
    "\n",
    "## The Objective functions are extracted from trained NN from Part 1 ....\n",
    "\n",
    "### Note: track the word \"change\" for to change the variables according to your problem"
   ]
  },
  {
   "cell_type": "markdown",
   "id": "162b9837-71d3-4df6-a596-3fbf08661342",
   "metadata": {},
   "source": [
    "# 1. Library Imports"
   ]
  },
  {
   "cell_type": "code",
   "execution_count": 1,
   "id": "5c692b92-36b5-4cab-8956-779d1f9e6e24",
   "metadata": {},
   "outputs": [],
   "source": [
    "# !{sys.executable} -m pip install pygad ## pygas installation"
   ]
  },
  {
   "cell_type": "code",
   "execution_count": 2,
   "id": "e4ace948",
   "metadata": {},
   "outputs": [],
   "source": [
    "import pygad\n",
    "import numpy as np  \n",
    "import pandas as pd \n",
    "import torch "
   ]
  },
  {
   "cell_type": "code",
   "execution_count": 3,
   "id": "dff18507-9a93-4000-8774-d5e41437d656",
   "metadata": {},
   "outputs": [],
   "source": [
    "## Suppress All Warnings (Use With Caution)\n",
    "import warnings\n",
    "warnings.filterwarnings(\"ignore\")"
   ]
  },
  {
   "cell_type": "markdown",
   "id": "73a24dd8-585e-4ed0-841d-25f5c19fd9a7",
   "metadata": {},
   "source": [
    "## Output File Names (change name according to your needs)"
   ]
  },
  {
   "cell_type": "code",
   "execution_count": 4,
   "id": "bfeaff97-a489-43ff-857b-3662c067b22b",
   "metadata": {},
   "outputs": [],
   "source": [
    "filename_fixed = 'GA_H2_3inputs_Fixed__'     ######## change / name of the file .pkl for the GA results Fixed case ###########\n",
    "filename_fluid = 'GA_H2_3inputs_Fluidized__'   ########## change / name of the file .pkl for the GA results fluidized case ###########"
   ]
  },
  {
   "cell_type": "markdown",
   "id": "2476f74d-8936-4207-ba2d-3db9dc8c2c13",
   "metadata": {},
   "source": [
    "## Models Names (Change according to your trained models from ANN)"
   ]
  },
  {
   "cell_type": "code",
   "execution_count": 5,
   "id": "66272224-6207-4f40-bc99-65f20f0c407a",
   "metadata": {},
   "outputs": [],
   "source": [
    "model_output_Fixed = 'model_NewInputs_H2_4.pt'  ###### change  / Name of the model to optimize for the Fixed bed case ######### \n",
    "model_output_Fluidized = 'model_NewInputs_H2_4.pt'     ######## change / Name of the model to optimize for the Fluidized bed case #########"
   ]
  },
  {
   "cell_type": "markdown",
   "id": "fd3bba7c",
   "metadata": {},
   "source": [
    "# 2. A. Define the NN Model (for loading) and Training Dataset (for StandardScaler() fit)"
   ]
  },
  {
   "cell_type": "code",
   "execution_count": 6,
   "id": "d6caf933",
   "metadata": {},
   "outputs": [
    {
     "data": {
      "text/html": [
       "<div>\n",
       "<style scoped>\n",
       "    .dataframe tbody tr th:only-of-type {\n",
       "        vertical-align: middle;\n",
       "    }\n",
       "\n",
       "    .dataframe tbody tr th {\n",
       "        vertical-align: top;\n",
       "    }\n",
       "\n",
       "    .dataframe thead th {\n",
       "        text-align: right;\n",
       "    }\n",
       "</style>\n",
       "<table border=\"1\" class=\"dataframe\">\n",
       "  <thead>\n",
       "    <tr style=\"text-align: right;\">\n",
       "      <th></th>\n",
       "      <th>Fluidized</th>\n",
       "      <th>Bed Height (m)</th>\n",
       "      <th>Superficial Velocity (m/s)</th>\n",
       "      <th>MFR</th>\n",
       "    </tr>\n",
       "  </thead>\n",
       "  <tbody>\n",
       "    <tr>\n",
       "      <th>0</th>\n",
       "      <td>0</td>\n",
       "      <td>2.85</td>\n",
       "      <td>0.9</td>\n",
       "      <td>1.0</td>\n",
       "    </tr>\n",
       "    <tr>\n",
       "      <th>1</th>\n",
       "      <td>0</td>\n",
       "      <td>2.85</td>\n",
       "      <td>1.1</td>\n",
       "      <td>1.0</td>\n",
       "    </tr>\n",
       "    <tr>\n",
       "      <th>2</th>\n",
       "      <td>0</td>\n",
       "      <td>2.85</td>\n",
       "      <td>1.3</td>\n",
       "      <td>1.0</td>\n",
       "    </tr>\n",
       "    <tr>\n",
       "      <th>3</th>\n",
       "      <td>0</td>\n",
       "      <td>2.85</td>\n",
       "      <td>1.5</td>\n",
       "      <td>1.0</td>\n",
       "    </tr>\n",
       "    <tr>\n",
       "      <th>4</th>\n",
       "      <td>1</td>\n",
       "      <td>2.85</td>\n",
       "      <td>0.9</td>\n",
       "      <td>1.0</td>\n",
       "    </tr>\n",
       "  </tbody>\n",
       "</table>\n",
       "</div>"
      ],
      "text/plain": [
       "   Fluidized  Bed Height (m)  Superficial Velocity (m/s)  MFR\n",
       "0          0            2.85                         0.9  1.0\n",
       "1          0            2.85                         1.1  1.0\n",
       "2          0            2.85                         1.3  1.0\n",
       "3          0            2.85                         1.5  1.0\n",
       "4          1            2.85                         0.9  1.0"
      ]
     },
     "execution_count": 6,
     "metadata": {},
     "output_type": "execute_result"
    }
   ],
   "source": [
    "data = pd.read_excel(open('Data_ML_Final.xlsx', 'rb'),sheet_name='Final_Data') \n",
    "df_inputs = data.drop(['Fixed', 'CO2', 'CH4', 'X_CH4', 'X_CO2', 'Y_H2', 'Y_CO', 'C_c'], axis=1) # dropping the output columns\n",
    "df_inputs.head() # check if output columns were dropped"
   ]
  },
  {
   "cell_type": "code",
   "execution_count": 7,
   "id": "d0dcc74b",
   "metadata": {},
   "outputs": [],
   "source": [
    "## Define Output Matrics\n",
    "y_CH4 = data['X_CH4']\n",
    "y_CO2 = data['X_CO2']\n",
    "y_H2 = data['Y_H2']\n",
    "y_CO = data['Y_CO']\n",
    "y_C_c = data['C_c']\n",
    "\n",
    "## Change y_output from the above list according to the output to optimize\n",
    "\n",
    "y_output = y_H2  ### used in the StandardScaler() function"
   ]
  },
  {
   "cell_type": "code",
   "execution_count": 8,
   "id": "c3d850ca",
   "metadata": {},
   "outputs": [],
   "source": [
    "from sklearn.model_selection import train_test_split\n",
    "\n",
    "## Data Set Split (60/20/20)\n",
    "X_trainval_CH4_O, X_test_CH4_O, y_trainval_CH4_O, y_test_CH4_O = train_test_split(df_inputs, y_output,test_size=0.2,train_size=0.8, random_state=42)\n",
    "X_train_CH4_O, X_valid_CH4_O, y_train_CH4_O, y_valid_CH4_O = train_test_split(X_trainval_CH4_O,y_trainval_CH4_O,test_size = 0.25,train_size =0.75, random_state=42)"
   ]
  },
  {
   "cell_type": "code",
   "execution_count": 9,
   "id": "428337cd",
   "metadata": {},
   "outputs": [
    {
     "data": {
      "text/html": [
       "<div>\n",
       "<style scoped>\n",
       "    .dataframe tbody tr th:only-of-type {\n",
       "        vertical-align: middle;\n",
       "    }\n",
       "\n",
       "    .dataframe tbody tr th {\n",
       "        vertical-align: top;\n",
       "    }\n",
       "\n",
       "    .dataframe thead th {\n",
       "        text-align: right;\n",
       "    }\n",
       "</style>\n",
       "<table border=\"1\" class=\"dataframe\">\n",
       "  <thead>\n",
       "    <tr style=\"text-align: right;\">\n",
       "      <th></th>\n",
       "      <th>Fluidized</th>\n",
       "      <th>Bed Height (m)</th>\n",
       "      <th>Superficial Velocity (m/s)</th>\n",
       "      <th>MFR</th>\n",
       "    </tr>\n",
       "  </thead>\n",
       "  <tbody>\n",
       "    <tr>\n",
       "      <th>28</th>\n",
       "      <td>1</td>\n",
       "      <td>2.280</td>\n",
       "      <td>0.9</td>\n",
       "      <td>2.333333</td>\n",
       "    </tr>\n",
       "    <tr>\n",
       "      <th>24</th>\n",
       "      <td>1</td>\n",
       "      <td>2.280</td>\n",
       "      <td>1.3</td>\n",
       "      <td>1.000000</td>\n",
       "    </tr>\n",
       "    <tr>\n",
       "      <th>12</th>\n",
       "      <td>1</td>\n",
       "      <td>2.850</td>\n",
       "      <td>0.9</td>\n",
       "      <td>1.500000</td>\n",
       "    </tr>\n",
       "    <tr>\n",
       "      <th>0</th>\n",
       "      <td>0</td>\n",
       "      <td>2.850</td>\n",
       "      <td>0.9</td>\n",
       "      <td>1.000000</td>\n",
       "    </tr>\n",
       "    <tr>\n",
       "      <th>4</th>\n",
       "      <td>1</td>\n",
       "      <td>2.850</td>\n",
       "      <td>0.9</td>\n",
       "      <td>1.000000</td>\n",
       "    </tr>\n",
       "    <tr>\n",
       "      <th>16</th>\n",
       "      <td>1</td>\n",
       "      <td>2.565</td>\n",
       "      <td>1.3</td>\n",
       "      <td>1.000000</td>\n",
       "    </tr>\n",
       "    <tr>\n",
       "      <th>5</th>\n",
       "      <td>1</td>\n",
       "      <td>2.850</td>\n",
       "      <td>1.1</td>\n",
       "      <td>1.000000</td>\n",
       "    </tr>\n",
       "    <tr>\n",
       "      <th>13</th>\n",
       "      <td>1</td>\n",
       "      <td>2.850</td>\n",
       "      <td>0.9</td>\n",
       "      <td>2.333333</td>\n",
       "    </tr>\n",
       "    <tr>\n",
       "      <th>11</th>\n",
       "      <td>1</td>\n",
       "      <td>2.850</td>\n",
       "      <td>0.9</td>\n",
       "      <td>0.666667</td>\n",
       "    </tr>\n",
       "    <tr>\n",
       "      <th>22</th>\n",
       "      <td>1</td>\n",
       "      <td>2.280</td>\n",
       "      <td>0.9</td>\n",
       "      <td>1.000000</td>\n",
       "    </tr>\n",
       "    <tr>\n",
       "      <th>1</th>\n",
       "      <td>0</td>\n",
       "      <td>2.850</td>\n",
       "      <td>1.1</td>\n",
       "      <td>1.000000</td>\n",
       "    </tr>\n",
       "    <tr>\n",
       "      <th>2</th>\n",
       "      <td>0</td>\n",
       "      <td>2.850</td>\n",
       "      <td>1.3</td>\n",
       "      <td>1.000000</td>\n",
       "    </tr>\n",
       "    <tr>\n",
       "      <th>25</th>\n",
       "      <td>1</td>\n",
       "      <td>2.280</td>\n",
       "      <td>1.5</td>\n",
       "      <td>1.000000</td>\n",
       "    </tr>\n",
       "    <tr>\n",
       "      <th>3</th>\n",
       "      <td>0</td>\n",
       "      <td>2.850</td>\n",
       "      <td>1.5</td>\n",
       "      <td>1.000000</td>\n",
       "    </tr>\n",
       "    <tr>\n",
       "      <th>21</th>\n",
       "      <td>1</td>\n",
       "      <td>2.565</td>\n",
       "      <td>0.9</td>\n",
       "      <td>1.000000</td>\n",
       "    </tr>\n",
       "    <tr>\n",
       "      <th>26</th>\n",
       "      <td>1</td>\n",
       "      <td>2.280</td>\n",
       "      <td>0.9</td>\n",
       "      <td>0.666667</td>\n",
       "    </tr>\n",
       "    <tr>\n",
       "      <th>18</th>\n",
       "      <td>1</td>\n",
       "      <td>2.565</td>\n",
       "      <td>0.9</td>\n",
       "      <td>0.666667</td>\n",
       "    </tr>\n",
       "    <tr>\n",
       "      <th>29</th>\n",
       "      <td>1</td>\n",
       "      <td>2.280</td>\n",
       "      <td>0.9</td>\n",
       "      <td>1.000000</td>\n",
       "    </tr>\n",
       "    <tr>\n",
       "      <th>20</th>\n",
       "      <td>1</td>\n",
       "      <td>2.565</td>\n",
       "      <td>0.9</td>\n",
       "      <td>2.333333</td>\n",
       "    </tr>\n",
       "    <tr>\n",
       "      <th>7</th>\n",
       "      <td>1</td>\n",
       "      <td>2.850</td>\n",
       "      <td>1.5</td>\n",
       "      <td>1.000000</td>\n",
       "    </tr>\n",
       "    <tr>\n",
       "      <th>10</th>\n",
       "      <td>0</td>\n",
       "      <td>2.850</td>\n",
       "      <td>0.9</td>\n",
       "      <td>2.333333</td>\n",
       "    </tr>\n",
       "    <tr>\n",
       "      <th>14</th>\n",
       "      <td>1</td>\n",
       "      <td>2.565</td>\n",
       "      <td>0.9</td>\n",
       "      <td>1.000000</td>\n",
       "    </tr>\n",
       "    <tr>\n",
       "      <th>19</th>\n",
       "      <td>1</td>\n",
       "      <td>2.565</td>\n",
       "      <td>0.9</td>\n",
       "      <td>1.500000</td>\n",
       "    </tr>\n",
       "    <tr>\n",
       "      <th>6</th>\n",
       "      <td>1</td>\n",
       "      <td>2.850</td>\n",
       "      <td>1.3</td>\n",
       "      <td>1.000000</td>\n",
       "    </tr>\n",
       "  </tbody>\n",
       "</table>\n",
       "</div>"
      ],
      "text/plain": [
       "    Fluidized  Bed Height (m)  Superficial Velocity (m/s)       MFR\n",
       "28          1           2.280                         0.9  2.333333\n",
       "24          1           2.280                         1.3  1.000000\n",
       "12          1           2.850                         0.9  1.500000\n",
       "0           0           2.850                         0.9  1.000000\n",
       "4           1           2.850                         0.9  1.000000\n",
       "16          1           2.565                         1.3  1.000000\n",
       "5           1           2.850                         1.1  1.000000\n",
       "13          1           2.850                         0.9  2.333333\n",
       "11          1           2.850                         0.9  0.666667\n",
       "22          1           2.280                         0.9  1.000000\n",
       "1           0           2.850                         1.1  1.000000\n",
       "2           0           2.850                         1.3  1.000000\n",
       "25          1           2.280                         1.5  1.000000\n",
       "3           0           2.850                         1.5  1.000000\n",
       "21          1           2.565                         0.9  1.000000\n",
       "26          1           2.280                         0.9  0.666667\n",
       "18          1           2.565                         0.9  0.666667\n",
       "29          1           2.280                         0.9  1.000000\n",
       "20          1           2.565                         0.9  2.333333\n",
       "7           1           2.850                         1.5  1.000000\n",
       "10          0           2.850                         0.9  2.333333\n",
       "14          1           2.565                         0.9  1.000000\n",
       "19          1           2.565                         0.9  1.500000\n",
       "6           1           2.850                         1.3  1.000000"
      ]
     },
     "execution_count": 9,
     "metadata": {},
     "output_type": "execute_result"
    }
   ],
   "source": [
    "X_trainval_CH4_O"
   ]
  },
  {
   "cell_type": "code",
   "execution_count": 10,
   "id": "c8f1f82d",
   "metadata": {},
   "outputs": [],
   "source": [
    "from sklearn.preprocessing import StandardScaler\n",
    "\n",
    "## SCALE (S) DATA\n",
    "scaler = StandardScaler()\n",
    "scaler.fit(X_train_CH4_O)\n",
    "X_train_CH4_S = scaler.transform(X_train_CH4_O)\n",
    "X_valid_CH4_S = scaler.transform(X_valid_CH4_O)\n",
    "X_test_CH4_S = scaler.transform(X_test_CH4_O)"
   ]
  },
  {
   "cell_type": "code",
   "execution_count": 11,
   "id": "73d5e37f",
   "metadata": {},
   "outputs": [],
   "source": [
    "## Transformation (T) for the pytorch library\n",
    "X_train_CH4_T = torch.from_numpy(X_train_CH4_S).float()\n",
    "y_train_CH4_T = torch.from_numpy(y_train_CH4_O.values.reshape(-1,1)).float()\n",
    "    \n",
    "X_valid_CH4_T = torch.from_numpy(X_valid_CH4_S).float()\n",
    "y_valid_CH4_T = torch.from_numpy(y_valid_CH4_O.values.reshape(-1,1)).float()\n",
    "    \n",
    "X_test_CH4_T = torch.tensor(X_test_CH4_S).float()\n",
    "y_test_CH4_T = torch.tensor(y_test_CH4_O.values.reshape(-1,1)).view(-1, 1).float()"
   ]
  },
  {
   "cell_type": "markdown",
   "id": "01557be2",
   "metadata": {},
   "source": [
    "### Note: The model class (used to traing the model) must be included in the code here for the model to be loaded"
   ]
  },
  {
   "cell_type": "code",
   "execution_count": 12,
   "id": "8eacc31e",
   "metadata": {},
   "outputs": [],
   "source": [
    "import torch.nn as nn\n",
    "\n",
    "class Model(nn.Module):\n",
    "    def __init__(self, trial, nfeatures, ntargets, nlayers, dropout, activation_func):\n",
    "        super().__init__()\n",
    "        layers = []\n",
    "        out_features_list = [24,10]  ###### change according to the optimized NN model number of nodes (for each layer) ######## For H2\n",
    "        for _ in range(nlayers):\n",
    "            out_features = out_features_list[_]   ### changed since already optimzied ### out_features = trial.suggest_int(\"n_units_l{}\".format(_), 1, 30)\n",
    "            layers.append(nn.Linear(nfeatures, out_features)) \n",
    "            layers.append(nn.Dropout(dropout))\n",
    "            layers.append(getattr(nn, activation_func)() )\n",
    "            nfeatures = out_features\n",
    "        layers.append(nn.Linear(nfeatures, ntargets))\n",
    "        self.model = nn.Sequential(*layers)\n",
    "        \n",
    "    def forward(self, x):\n",
    "        return self.model(x)    "
   ]
  },
  {
   "cell_type": "markdown",
   "id": "5a83d2e8",
   "metadata": {},
   "source": [
    "## 2. B. Define the neural network as the fitness function"
   ]
  },
  {
   "cell_type": "markdown",
   "id": "b75519f4",
   "metadata": {},
   "source": [
    "### Define Input (with SV, MFR and BH as variable parameters) \n",
    "\n",
    "### For Case 1. Fixed"
   ]
  },
  {
   "cell_type": "code",
   "execution_count": 13,
   "id": "adc4d843",
   "metadata": {},
   "outputs": [],
   "source": [
    "def fitness_func(ga_instance, solution, solution_idx):\n",
    "    \n",
    "    ## Take the SV value then convert it (with other input parameters) to a DataFrame\n",
    "    series_SV = pd.Series([0,solution[2],solution[0],solution[1]], index=['Fluidized', 'Bed Height (m)', 'Superficial Velocity (m/s)', 'MFR'])\n",
    "\n",
    "    df_SV_O = pd.DataFrame([series_SV])\n",
    "   \n",
    "    ## SCALE (S) DATA\n",
    "    df_SV_S = scaler.transform(df_SV_O)\n",
    "\n",
    "    ## Transformation (T) for the pytorch library\n",
    "    df_SV_T = torch.from_numpy(df_SV_S).float()\n",
    "\n",
    "### For output NN model\n",
    "\n",
    "    ## Load Trained NN Model\n",
    "    model_test = torch.load(model_output_Fixed)   ### model of the output to optimize\n",
    "\n",
    "    ## Predict the X_output (X_H2 as an example) for different SV values (Using the previously Trained NN model) \n",
    "    model_test.eval()\n",
    "    predictions_test = model_test(df_SV_T).detach().numpy()\n",
    "    \n",
    "    fitness1 = np.float64(predictions_test[0]) \n",
    "    \n",
    "    return [fitness1] # fitness"
   ]
  },
  {
   "cell_type": "markdown",
   "id": "14ed2f86",
   "metadata": {},
   "source": [
    "# 3. Prepare the parameters of PyGAD. \n",
    "\n",
    "### Note: change (num_genes & gene_space) according to the number of inputs to optimize and their range: "
   ]
  },
  {
   "cell_type": "code",
   "execution_count": 14,
   "id": "a8c1de89",
   "metadata": {},
   "outputs": [],
   "source": [
    "fitness_function = fitness_func\n",
    "\n",
    "num_generations = 50\n",
    "num_parents_mating = 4\n",
    "sol_per_pop = 8\n",
    "init_range_low = [0.9, 0.24, 2.28]     ## Initial guess\n",
    "init_range_high = [1.5, 0.42, 2.85]\n",
    "parent_selection_type = \"sss\"\n",
    "keep_parents = 1   \n",
    "crossover_type = \"single_point\"\n",
    "mutation_type = \"random\"\n",
    "mutation_percent_genes = 10\n",
    "\n",
    "### Define the lower and upper bounds of the solution parameters, must equal to the \"num_genes\"\n",
    "num_genes = 3    ### Number of optimized parameters    ############ change according to problem \n",
    "gene_space = [np.linspace(0.9, 1.5), np.linspace(0.666667, 2.333333), np.linspace(2.28, 2.85)]  ## Range of Superficial Velocity (m/s) [0] in the Dataset and MFR [1] and Bed Height (m) [2]"
   ]
  },
  {
   "cell_type": "markdown",
   "id": "ae5de3dd",
   "metadata": {},
   "source": [
    "# 4. Instance of the pygad.GA class is created."
   ]
  },
  {
   "cell_type": "code",
   "execution_count": 15,
   "id": "3cf509d6",
   "metadata": {},
   "outputs": [],
   "source": [
    "ga_instance = pygad.GA(num_generations=num_generations,\n",
    "                       num_parents_mating=num_parents_mating,\n",
    "                       fitness_func=fitness_function,\n",
    "                       sol_per_pop=sol_per_pop,\n",
    "                       num_genes=num_genes,\n",
    "                       init_range_low=init_range_low,\n",
    "                       init_range_high=init_range_high,\n",
    "                       parent_selection_type=parent_selection_type,\n",
    "                       keep_parents=keep_parents,\n",
    "                       crossover_type=crossover_type,\n",
    "                       mutation_type=mutation_type,\n",
    "                       mutation_percent_genes=mutation_percent_genes,\n",
    "                       gene_space=gene_space)"
   ]
  },
  {
   "cell_type": "markdown",
   "id": "b9abec5a",
   "metadata": {},
   "source": [
    "# 5. The run() method is called to start the optimization."
   ]
  },
  {
   "cell_type": "code",
   "execution_count": 16,
   "id": "4fe39c1c",
   "metadata": {},
   "outputs": [],
   "source": [
    "ga_instance.run()"
   ]
  },
  {
   "cell_type": "markdown",
   "id": "5a7a85a6",
   "metadata": {},
   "source": [
    "# 6.  information about the best solution found by PyGAD can be accessed."
   ]
  },
  {
   "cell_type": "code",
   "execution_count": 17,
   "id": "963bf7e8",
   "metadata": {},
   "outputs": [
    {
     "name": "stdout",
     "output_type": "stream",
     "text": [
      "Parameters of the best solution : [0.9        2.333333   2.83836735]\n",
      "Fitness value of the best solution = [0.04511461]\n"
     ]
    }
   ],
   "source": [
    "solution, solution_fitness, solution_idx = ga_instance.best_solution()\n",
    "\n",
    "print(f\"Parameters of the best solution : {solution}\")\n",
    "print(f\"Fitness value of the best solution = {solution_fitness}\")"
   ]
  },
  {
   "cell_type": "code",
   "execution_count": 18,
   "id": "716c770c",
   "metadata": {},
   "outputs": [
    {
     "data": {
      "text/plain": [
       "(array([0.9       , 2.333333  , 2.83836735]), array([0.04511461]), 0)"
      ]
     },
     "execution_count": 18,
     "metadata": {},
     "output_type": "execute_result"
    }
   ],
   "source": [
    "ga_instance.best_solution() # information about the best solution in the last population is returned"
   ]
  },
  {
   "cell_type": "markdown",
   "id": "af91ecfd",
   "metadata": {},
   "source": [
    "# 7. Plotting Results"
   ]
  },
  {
   "cell_type": "code",
   "execution_count": 19,
   "id": "45a7be62",
   "metadata": {},
   "outputs": [
    {
     "data": {
      "image/png": "[encoded data removed]",
      "text/plain": [
       "<Figure size 640x480 with 1 Axes>"
      ]
     },
     "metadata": {},
     "output_type": "display_data"
    },
    {
     "data": {
      "image/png": "[encoded data removed]",
      "text/plain": [
       "<Figure size 640x480 with 1 Axes>"
      ]
     },
     "execution_count": 19,
     "metadata": {},
     "output_type": "execute_result"
    }
   ],
   "source": [
    "ga_instance.plot_fitness()"
   ]
  },
  {
   "cell_type": "code",
   "execution_count": 20,
   "id": "7180499a",
   "metadata": {},
   "outputs": [
    {
     "data": {
      "image/png": "[encoded data removed]",
      "text/plain": [
       "<Figure size 640x480 with 1 Axes>"
      ]
     },
     "metadata": {},
     "output_type": "display_data"
    },
    {
     "data": {
      "image/png": "[encoded data removed]",
      "text/plain": [
       "<Figure size 640x480 with 1 Axes>"
      ]
     },
     "execution_count": 20,
     "metadata": {},
     "output_type": "execute_result"
    }
   ],
   "source": [
    "ga_instance.plot_fitness(label=['H2'])    ##### change Label according to output ######"
   ]
  },
  {
   "cell_type": "markdown",
   "id": "067bbdc8",
   "metadata": {},
   "source": [
    "# 8. Saving & Loading the Results"
   ]
  },
  {
   "cell_type": "code",
   "execution_count": 21,
   "id": "84d1efae",
   "metadata": {},
   "outputs": [],
   "source": [
    "# According to the next code, a file named genetic_NN.pkl will be created and saved in the current directory.\n",
    "ga_instance.save(filename=filename_fixed) "
   ]
  },
  {
   "cell_type": "code",
   "execution_count": 22,
   "id": "ea253ec6",
   "metadata": {},
   "outputs": [],
   "source": [
    "# load the model using the load() function, and then call the run() method again.\n",
    "loaded_ga_instance = pygad.load(filename=filename_fixed)"
   ]
  },
  {
   "cell_type": "code",
   "execution_count": 23,
   "id": "5cb39af6",
   "metadata": {},
   "outputs": [
    {
     "name": "stdout",
     "output_type": "stream",
     "text": [
      "(array([0.9       , 2.333333  , 2.83836735]), array([0.04511461]), 0)\n"
     ]
    }
   ],
   "source": [
    "# After the instance is loaded, you can use it to run any method or access any property.\n",
    "print(loaded_ga_instance.best_solution())"
   ]
  },
  {
   "cell_type": "markdown",
   "id": "f4c2f929",
   "metadata": {},
   "source": [
    "# For Case 2. Fluidized\n",
    "\n",
    "### Define Input (with SV, MFR and BH as variable parameters) "
   ]
  },
  {
   "cell_type": "code",
   "execution_count": 24,
   "id": "6e73147a",
   "metadata": {},
   "outputs": [],
   "source": [
    "def fitness_func_Fluidized(ga_instance, solution, solution_idx):\n",
    "    \n",
    "    ## Take the SV value then convert it (with other input parameters) to a DataFrame\n",
    "    series_SV = pd.Series([1,solution[2],solution[0],solution[1]], index=['Fluidized', 'Bed Height (m)', 'Superficial Velocity (m/s)', 'MFR'])\n",
    "    #     solution[0]: Superficial Velocity (m/s)\n",
    "    #     solution[1]: MFR\n",
    "    #     solution[2]: Bed Height (m)\n",
    "    df_SV_O = pd.DataFrame([series_SV])\n",
    "   \n",
    "    ## SCALE (S) DATA\n",
    "    df_SV_S = scaler.transform(df_SV_O)\n",
    "\n",
    "    ## Transformation (T) for the pytorch library\n",
    "    df_SV_T = torch.from_numpy(df_SV_S).float()\n",
    "\n",
    "### For output NN model\n",
    "\n",
    "    ## Load Trained NN Model\n",
    "    model_test = torch.load(model_output_Fluidized)      ### model of the output to optimize\n",
    "\n",
    "    ## Predict the X_output (i.e. X_CH4, X_H2) for different SV values (Using the previously Trained NN model) \n",
    "    model_test.eval()\n",
    "    predictions_test = model_test(df_SV_T).detach().numpy()\n",
    "    fitness1 = np.float64(predictions_test[0])\n",
    "\n",
    "    return [fitness1] "
   ]
  },
  {
   "cell_type": "code",
   "execution_count": 25,
   "id": "53d71a8b",
   "metadata": {},
   "outputs": [],
   "source": [
    "ga_instance_fluid = pygad.GA(num_generations=num_generations,\n",
    "                       num_parents_mating=num_parents_mating,\n",
    "                       fitness_func=fitness_func_Fluidized,\n",
    "                       sol_per_pop=sol_per_pop,\n",
    "                       num_genes=num_genes,\n",
    "                       init_range_low=init_range_low,\n",
    "                       init_range_high=init_range_high,\n",
    "                       parent_selection_type=parent_selection_type,\n",
    "                       keep_parents=keep_parents,\n",
    "                       crossover_type=crossover_type,\n",
    "                       mutation_type=mutation_type,\n",
    "                       mutation_percent_genes=mutation_percent_genes,\n",
    "                       gene_space=gene_space)"
   ]
  },
  {
   "cell_type": "code",
   "execution_count": 26,
   "id": "090cd9b1",
   "metadata": {},
   "outputs": [],
   "source": [
    "ga_instance_fluid.run()"
   ]
  },
  {
   "cell_type": "markdown",
   "id": "c58e2a4b-b6ad-4c7a-8a83-8628ebc2e327",
   "metadata": {},
   "source": [
    "## Information about the best solution"
   ]
  },
  {
   "cell_type": "code",
   "execution_count": 27,
   "id": "913f7922",
   "metadata": {},
   "outputs": [
    {
     "name": "stdout",
     "output_type": "stream",
     "text": [
      "Parameters of the best solution : [0.9        2.333333   2.83836735]\n",
      "Fitness value of the best solution = [0.0970158]\n"
     ]
    }
   ],
   "source": [
    "solution_fluid, solution_fitness_fluid, solution_idx_fluid = ga_instance_fluid.best_solution()\n",
    "\n",
    "print(f\"Parameters of the best solution : {solution_fluid}\")\n",
    "print(f\"Fitness value of the best solution = {solution_fitness_fluid}\")"
   ]
  },
  {
   "cell_type": "markdown",
   "id": "29c23ec3",
   "metadata": {},
   "source": [
    "### Plotting Results"
   ]
  },
  {
   "cell_type": "code",
   "execution_count": 28,
   "id": "d330f9d2",
   "metadata": {},
   "outputs": [
    {
     "data": {
      "image/png": "[encoded data removed]",
      "text/plain": [
       "<Figure size 640x480 with 1 Axes>"
      ]
     },
     "metadata": {},
     "output_type": "display_data"
    },
    {
     "data": {
      "image/png": "[encoded data removed]",
      "text/plain": [
       "<Figure size 640x480 with 1 Axes>"
      ]
     },
     "execution_count": 28,
     "metadata": {},
     "output_type": "execute_result"
    }
   ],
   "source": [
    "ga_instance_fluid.plot_fitness(label=['H2']) ##### change Label according to output ######"
   ]
  },
  {
   "cell_type": "markdown",
   "id": "6828b614",
   "metadata": {},
   "source": [
    "### Saving & Loading the Results"
   ]
  },
  {
   "cell_type": "code",
   "execution_count": 29,
   "id": "040f0cb9",
   "metadata": {},
   "outputs": [],
   "source": [
    "# According to the next code, a file named genetic_NN.pkl will be created and saved in the current directory.\n",
    "ga_instance_fluid.save(filename=filename_fluid)"
   ]
  },
  {
   "cell_type": "code",
   "execution_count": 30,
   "id": "2daf3b11",
   "metadata": {},
   "outputs": [],
   "source": [
    "# load the model using the load() function, and then call the run() method again.\n",
    "loaded_ga_instance_fluid = pygad.load(filename=filename_fluid)"
   ]
  },
  {
   "cell_type": "code",
   "execution_count": 31,
   "id": "a43e5ed1",
   "metadata": {},
   "outputs": [
    {
     "name": "stdout",
     "output_type": "stream",
     "text": [
      "(array([0.9       , 2.333333  , 2.83836735]), array([0.0970158]), 0)\n"
     ]
    }
   ],
   "source": [
    "# After the instance is loaded, you can use it to run any method or access any property.\n",
    "print(loaded_ga_instance_fluid.best_solution())"
   ]
  }
 ],
 "metadata": {
  "kernelspec": {
   "display_name": "Python 3 (ipykernel)",
   "language": "python",
   "name": "python3"
  },
  "language_info": {
   "codemirror_mode": {
    "name": "ipython",
    "version": 3
   },
   "file_extension": ".py",
   "mimetype": "text/x-python",
   "name": "python",
   "nbconvert_exporter": "python",
   "pygments_lexer": "ipython3",
   "version": "3.12.8"
  }
 },
 "nbformat": 4,
 "nbformat_minor": 5
}
